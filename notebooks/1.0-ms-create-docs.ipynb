{
 "cells": [
  {
   "cell_type": "code",
   "execution_count": 56,
   "metadata": {},
   "outputs": [],
   "source": [
    "import json\n",
    "from bs4 import BeautifulSoup\n",
    "from markdownify import markdownify\n",
    "from dotenv import find_dotenv, load_dotenv\n",
    "import os\n",
    "from langchain.chains import RetrievalQA\n",
    "from langchain.chat_models import ChatOpenAI\n",
    "from langchain.docstore.document import Document\n",
    "from langchain.embeddings.openai import OpenAIEmbeddings\n",
    "from langchain.prompts import PromptTemplate\n",
    "from langchain.vectorstores import FAISS"
   ]
  },
  {
   "cell_type": "code",
   "execution_count": 52,
   "metadata": {},
   "outputs": [
    {
     "data": {
      "text/plain": [
       "True"
      ]
     },
     "execution_count": 52,
     "metadata": {},
     "output_type": "execute_result"
    }
   ],
   "source": [
    "# Load environment variables\n",
    "load_dotenv(find_dotenv())"
   ]
  },
  {
   "cell_type": "markdown",
   "metadata": {},
   "source": [
    "## Step 1: Create content for vector db"
   ]
  },
  {
   "cell_type": "code",
   "execution_count": 13,
   "metadata": {},
   "outputs": [],
   "source": [
    "def html_to_markdown(html_string):\n",
    "    # Parse the HTML string using BeautifulSoup\n",
    "    soup = BeautifulSoup(html_string, 'html.parser')\n",
    "\n",
    "    # Convert the parsed HTML to Markdown using markdownify\n",
    "    markdown_text = markdownify(str(soup))\n",
    "\n",
    "    return markdown_text"
   ]
  },
  {
   "cell_type": "code",
   "execution_count": 3,
   "metadata": {},
   "outputs": [],
   "source": [
    "with open('./../data/qa-data.json', 'r') as file:\n",
    "    data = json.load(file)"
   ]
  },
  {
   "cell_type": "code",
   "execution_count": 91,
   "metadata": {},
   "outputs": [
    {
     "data": {
      "text/plain": [
       "{'id': '62bdc113-aee1-4469-bc36-4c7c3fc39a4d',\n",
       " 'type': 'vraag en antwoord',\n",
       " 'canonical': 'https://www.rijksoverheid.nl/onderwerpen/leerplicht/vraag-en-antwoord/leerplicht-schoolvakanties',\n",
       " 'dataurl': 'https://opendata.rijksoverheid.nl/v1/infotypes/faq/62bdc113-aee1-4469-bc36-4c7c3fc39a4d',\n",
       " 'question': 'Mag ik mijn kind meenemen op vakantie buiten de schoolvakantie?',\n",
       " 'lastmodified': '2023-05-31T13:52:55.841Z',\n",
       " 'answer': {'id': '62bdc113-aee1-4469-bc36-4c7c3fc39a4d',\n",
       "  'type': 'vraag en antwoord',\n",
       "  'canonical': 'https://www.rijksoverheid.nl/onderwerpen/leerplicht/vraag-en-antwoord/leerplicht-schoolvakanties',\n",
       "  'dataurl': 'https://opendata.rijksoverheid.nl/v1/infotypes/faq/62bdc113-aee1-4469-bc36-4c7c3fc39a4d',\n",
       "  'question': 'Mag ik mijn kind meenemen op vakantie buiten de schoolvakantie?',\n",
       "  'introduction': '<p>U mag uw kind niet meenemen op vakantie buiten de schoolvakanties. U kunt een boete krijgen als u dit wel doet. Als u in de schoolvakanties niet weg kunt door uw werk kunt u toestemming vragen om buiten de schoolvakanties op vakantie te gaan.</p>',\n",
       "  'content': [{'paragraphtitle': 'Vrij buiten de schoolvakanties',\n",
       "    'paragraph': '<p>Soms kunt u door uw werk tijdens geen enkele schoolvakantie in het schooljaar met uw gezin op vakantie. Dit moet dan komen door de specifieke aard van uw beroep. Bijvoorbeeld omdat u:</p>\\n\\n<ul>\\n <li>seizoensgebonden werk heeft, bijvoorbeeld in de fruitteelt of horeca;</li>\\n <li>met piekdrukte te maken krijgt tijdens schoolvakanties;</li>\\n <li>als zelfstandige een groot deel van uw inkomen mist als u tijdens de schoolvakanties weg bent.</li>\\n</ul>\\n\\n<p>In dat geval kunt <a href=\"https://www.rijksoverheid.nl/wetten-en-regelingen/productbeschrijvingen/vrijstelling-leerplicht\">toestemming vragen voor verlof buiten de schoolvakanties</a>. Dit heet ‘beroep op vrijstelling’.</p>'},\n",
       "   {'paragraphtitle': 'Toestemming aanvragen bij directeur van de school',\n",
       "    'paragraph': '<p>U vraagt toestemming bij de directeur van de school. Dit moet 8 weken of eerder voordat u op vakantie gaat. De directeur mag uw kind vrij geven voor maximaal 10 dagen. Dit mag 1 keer in een schooljaar. Langer op vakantie gaan buiten de schoolvakanties mag niet van de wet.\\xa0</p>\\n\\n<p>De directeur beslist of uw kind buiten schoolvakanties op vakantie mag.\\xa0Bent u het niet eens met de beslissing? Dan kunt u dit schriftelijk aan de directeur melden. \\xa0</p>\\n\\n<p><strong>Bewijzen dat u niet tijdens schoolvakantie op vakantie kunt</strong></p>\\n\\n<p>Kunt u geen enkele schoolvakantie 2 weken achter elkaar op vakantie? En komt dit door uw werk? Dan moet u dit kunnen bewijzen:</p>\\n\\n<ul>\\n <li>Als ondernemer moet u kunnen aantonen\\xa0 dat u een groot deel van uw inkomsten mist als u tijdens schoolvakanties op vakantie gaat.\\xa0</li>\\n <li>Als werknemer kunt u\\xa0een verklaring van uw werkgever overleggen. Bijvoorbeeld\\xa0als u seizoenswerk doet.</li>\\n</ul>'},\n",
       "   {'paragraphtitle': 'Voorwaarden vakantie buiten de schoolvakanties',\n",
       "    'paragraph': '<p>Uw kind krijgt alleen vrij om op vakantie te gaan als:</p>\\n\\n<ul>\\n <li>dit niet in de eerste 2 weken na de zomervakantie is;</li>\\n <li>u door uw werk niet op vakantie kunt tijdens schoolvakanties;\\xa0</li>\\n <li>u dit schooljaar nog niet buiten de schoolvakanties op vakantie bent geweest;</li>\\n <li>u niet 2 weken achter elkaar op vakantie kunt met uw gezin. In geen enkele schoolvakantie.</li>\\n</ul>'},\n",
       "   {'paragraphtitle': 'Vrij voor bijzondere gebeurtenissen',\n",
       "    'paragraph': '<p>Uw kind kan ook vrij krijgen bij bijzondere gebeurtenissen. Bijvoorbeeld bij een begrafenis of huwelijk. Hiervoor moet u toestemming vragen. Dit doet u bij de directeur van de school. Bij bijzondere gebeurtenissen kunt u voor meer dan 10 dagen vrij vragen. U moet toestemming vragen aan de leerplichtambtenaar van de gemeente. Hij controleert of kinderen naar school gaan.</p>'}],\n",
       "  'authorities': ['Ministerie van Onderwijs, Cultuur en Wetenschap'],\n",
       "  'subjects': ['Leerplicht', 'Reizen met kinderen', 'Schoolvakanties'],\n",
       "  'themes': ['Migratie en reizen', 'Onderwijs'],\n",
       "  'organisationalunits': ['Ministerie van Onderwijs, Cultuur en Wetenschap'],\n",
       "  'lastmodified': '2023-05-31T13:52:55.841Z',\n",
       "  'license': 'CC0 1.0 Universal',\n",
       "  'rightsholders': ['Ministerie van Algemene Zaken'],\n",
       "  'language': 'nl-NL',\n",
       "  'location': 'Nederland'},\n",
       " 'content': \"Vraag: Mag ik mijn kind meenemen op vakantie buiten de schoolvakantie?\\nAntwoord:\\nU mag uw kind niet meenemen op vakantie buiten de schoolvakanties. U kunt een boete krijgen als u dit wel doet. Als u in de schoolvakanties niet weg kunt door uw werk kunt u toestemming vragen om buiten de schoolvakanties op vakantie te gaan.\\n\\n\\nVrij buiten de schoolvakanties\\nSoms kunt u door uw werk tijdens geen enkele schoolvakantie in het schooljaar met uw gezin op vakantie. Dit moet dan komen door de specifieke aard van uw beroep. Bijvoorbeeld omdat u:\\n\\n\\n* seizoensgebonden werk heeft, bijvoorbeeld in de fruitteelt of horeca;\\n* met piekdrukte te maken krijgt tijdens schoolvakanties;\\n* als zelfstandige een groot deel van uw inkomen mist als u tijdens de schoolvakanties weg bent.\\n\\n\\nIn dat geval kunt [toestemming vragen voor verlof buiten de schoolvakanties](https://www.rijksoverheid.nl/wetten-en-regelingen/productbeschrijvingen/vrijstelling-leerplicht). Dit heet ‘beroep op vrijstelling’.\\n\\n\\nToestemming aanvragen bij directeur van de school\\nU vraagt toestemming bij de directeur van de school. Dit moet 8 weken of eerder voordat u op vakantie gaat. De directeur mag uw kind vrij geven voor maximaal 10 dagen. Dit mag 1 keer in een schooljaar. Langer op vakantie gaan buiten de schoolvakanties mag niet van de wet.\\xa0\\n\\n\\nDe directeur beslist of uw kind buiten schoolvakanties op vakantie mag.\\xa0Bent u het niet eens met de beslissing? Dan kunt u dit schriftelijk aan de directeur melden. \\xa0\\n\\n\\n**Bewijzen dat u niet tijdens schoolvakantie op vakantie kunt**\\n\\n\\nKunt u geen enkele schoolvakantie 2 weken achter elkaar op vakantie? En komt dit door uw werk? Dan moet u dit kunnen bewijzen:\\n\\n\\n* Als ondernemer moet u kunnen aantonen\\xa0 dat u een groot deel van uw inkomsten mist als u tijdens schoolvakanties op vakantie gaat.\\n* Als werknemer kunt u\\xa0een verklaring van uw werkgever overleggen. Bijvoorbeeld\\xa0als u seizoenswerk doet.\\n\\nVoorwaarden vakantie buiten de schoolvakanties\\nUw kind krijgt alleen vrij om op vakantie te gaan als:\\n\\n\\n* dit niet in de eerste 2 weken na de zomervakantie is;\\n* u door uw werk niet op vakantie kunt tijdens schoolvakanties;\\n* u dit schooljaar nog niet buiten de schoolvakanties op vakantie bent geweest;\\n* u niet 2 weken achter elkaar op vakantie kunt met uw gezin. In geen enkele schoolvakantie.\\n\\nVrij voor bijzondere gebeurtenissen\\nUw kind kan ook vrij krijgen bij bijzondere gebeurtenissen. Bijvoorbeeld bij een begrafenis of huwelijk. Hiervoor moet u toestemming vragen. Dit doet u bij de directeur van de school. Bij bijzondere gebeurtenissen kunt u voor meer dan 10 dagen vrij vragen. U moet toestemming vragen aan de leerplichtambtenaar van de gemeente. Hij controleert of kinderen naar school gaan.\\n\\n\\n\\nOnderwerpen: Leerplicht, Reizen met kinderen, Schoolvakanties\\nThema's: Migratie en reizen, Onderwijs\\n\"}"
      ]
     },
     "execution_count": 91,
     "metadata": {},
     "output_type": "execute_result"
    }
   ],
   "source": [
    "data[0]"
   ]
  },
  {
   "cell_type": "code",
   "execution_count": 93,
   "metadata": {},
   "outputs": [],
   "source": [
    "def create_content_snippet(question):\n",
    "    # Get all content pieces in the answer\n",
    "    if \"content\" in question[\"answer\"].keys():\n",
    "        content_pieces = list(\n",
    "            map(\n",
    "                lambda content_piece: [html_to_markdown(paragraph) for paragraph in content_piece.values()],\n",
    "                question[\"answer\"][\"content\"])\n",
    "            )\n",
    "        concat_content = \"\\n\".join([item for row in content_pieces for item in row])\n",
    "    else:\n",
    "        concat_content = \"\"\n",
    "\n",
    "    return f\"\"\"Vraag: {question[\"question\"]}\n",
    "Antwoord:\n",
    "{html_to_markdown(question[\"answer\"][\"introduction\"]) if \"introduction\" in question[\"answer\"].keys() else \"\"}\n",
    "{concat_content}\n",
    "\n",
    "{\"Onderwerpen: \" + \", \".join(question[\"answer\"][\"subjects\"]) if \"subjects\" in question[\"answer\"].keys() else \"\"}\n",
    "{\"Thema's: \" + \", \".join(question[\"answer\"][\"themes\"]) if \"themes\" in question[\"answer\"].keys() else \"\"}\n",
    "{\"Autoriteit: \" + question[\"answer\"][\"authority\"] if \"authority\" in question[\"answer\"].keys() else \"\"}\"\"\""
   ]
  },
  {
   "cell_type": "code",
   "execution_count": 98,
   "metadata": {},
   "outputs": [
    {
     "name": "stderr",
     "output_type": "stream",
     "text": [
      "/var/folders/4n/btbbzjrn31nbw6c4jkw2yr1c0000gn/T/ipykernel_52874/3634077436.py:3: MarkupResemblesLocatorWarning: The input looks more like a filename than markup. You may want to open this file and pass the filehandle into Beautiful Soup.\n",
      "  soup = BeautifulSoup(html_string, 'html.parser')\n",
      "/Users/martijnschouten/Library/Caches/pypoetry/virtualenvs/feedbackfrontiers-3xN2_Ao--py3.11/lib/python3.11/site-packages/markdownify/__init__.py:96: MarkupResemblesLocatorWarning: The input looks more like a filename than markup. You may want to open this file and pass the filehandle into Beautiful Soup.\n",
      "  soup = BeautifulSoup(html, 'html.parser')\n"
     ]
    }
   ],
   "source": [
    "for qa in data:\n",
    "    qa[\"content\"] = create_content_snippet(qa)"
   ]
  },
  {
   "cell_type": "markdown",
   "metadata": {},
   "source": [
    "## Step 2: Build vector db"
   ]
  },
  {
   "cell_type": "code",
   "execution_count": 101,
   "metadata": {},
   "outputs": [],
   "source": [
    "# Ready all models\n",
    "embedding = OpenAIEmbeddings()\n",
    "llm = ChatOpenAI(model_name=\"gpt-4\", temperature=0)"
   ]
  },
  {
   "cell_type": "code",
   "execution_count": 102,
   "metadata": {},
   "outputs": [],
   "source": [
    "vectordb_persist_dir = \"./../data/faiss_index\""
   ]
  },
  {
   "cell_type": "code",
   "execution_count": 104,
   "metadata": {},
   "outputs": [],
   "source": [
    "if not os.path.exists(vectordb_persist_dir):\n",
    "    factors = [\n",
    "        Document(\n",
    "            page_content=qa_item[\"content\"],\n",
    "            metadata={\n",
    "                \"identifier\": qa_item[\"id\"],\n",
    "                \"source\": qa_item[\"canonical\"]\n",
    "            },\n",
    "        )\n",
    "        for qa_item in data\n",
    "    ]\n",
    "\n",
    "    # Create vector store\n",
    "    vectordb = FAISS.from_documents(\n",
    "        documents=factors,\n",
    "        embedding=embedding,\n",
    "    )\n",
    "    vectordb.save_local(vectordb_persist_dir)\n",
    "else:\n",
    "    # ChromaDB has been initialised before, recreate instance\n",
    "    vectordb = FAISS.load_local(vectordb_persist_dir, embedding)"
   ]
  },
  {
   "cell_type": "code",
   "execution_count": 124,
   "metadata": {},
   "outputs": [],
   "source": [
    "def get_answer_from_llm(query):    \n",
    "    # Build prompt\n",
    "    template = \"\"\"Gedraag je als een helpvolle assistent voor mensen die op zoek zijn naar allerlei antwoorden op vragen die iets te maken hebben met de Rijksoverheid. Beantwoord deze vraag ALLEEN op basis van de gegeven bronnen, niet op basis van eigen kennis. Als je de vraag niet kan beantwoorden, verontschuldig je en zeg dat de webmaster op de hoogte is gebracht van het niet hebben van de gevraagde informatie.\n",
    "    Bronnen: ```{context}```\n",
    "    Vraag: ```{question}```\n",
    "    Behulpzaam antwoord: \"\"\"\n",
    "    qa_chain_prompt = PromptTemplate.from_template(template)\n",
    "\n",
    "    # Define search kwargs\n",
    "    search_kwargs = {\"k\": 5}\n",
    "\n",
    "    # Create QA chain\n",
    "    qa_chain = RetrievalQA.from_chain_type(\n",
    "        llm,\n",
    "        retriever=vectordb.as_retriever(search_kwargs=search_kwargs),\n",
    "        return_source_documents=True,\n",
    "        chain_type_kwargs={\"prompt\": qa_chain_prompt},\n",
    "    )\n",
    "\n",
    "    # Get result\n",
    "    result = qa_chain({\"query\": query})\n",
    "\n",
    "    return {\n",
    "        **result,\n",
    "        \"source_documents\": [\n",
    "            {\n",
    "                \"page_content\": doc.page_content,\n",
    "                \"identifier\": doc.metadata[\"identifier\"],\n",
    "                \"source\": doc.metadata[\"source\"],\n",
    "            }\n",
    "            for doc in result[\"source_documents\"]\n",
    "        ]\n",
    "    }"
   ]
  },
  {
   "cell_type": "code",
   "execution_count": 125,
   "metadata": {},
   "outputs": [
    {
     "data": {
      "text/plain": [
       "{'query': 'Zit er BTW op zonnepanelen?',\n",
       " 'result': 'Sinds 2023 is de btw op zonnepanelen 0%. Dit nultarief geldt alleen als de zonnepanelen worden geplaatst op woningen of bijgebouwen van een woning.',\n",
       " 'source_documents': [{'page_content': \"Vraag: Krijg ik subsidie voor zonnepanelen?\\nAntwoord:\\nEr zijn verschillende financiële regelingen om de aankoop en het gebruik van zonnepanelen aantrekkelijk te maken.\\xa0\\n\\n\\nGoedkoop geld lenen voor aankoop en installatie van zonnepanelen\\nOm zonnepanelen te betalen, kunt u gebruikmaken van de [Energiebespaarlening](https://www.warmtefonds.nl/particulieren/energiebesparende-maatregelen/zonnepanelen). Met deze lening kunt u energiebesparende maatregelen in of aan uw huis betalen.\\n\\n\\nGeen btw op zonnepanelen\\n------------------------\\n\\n\\n Sinds 2023 is de btw op zonnepanelen 0%. Dit nultarief geldt alleen als de zonnepanelen worden geplaatst op woningen of bijgebouwen van een woning.\\n\\n\\nRegeling voor zelfgeproduceerde elektriciteit (salderingsregeling)\\nZelfgeproduceerde elektriciteit mag u aan het elektriciteitsnet leveren. En wegstrepen tegen uw verbruik op een ander moment.\\xa0Dit heet salderen. De [salderingsregeling](https://www.rijksoverheid.nl/onderwerpen/energie-thuis/plan-kabinet-afbouw-salderingsregeling-zonnepanelen) geldt tot 1 januari 2025. Vanaf 2025 wordt de salderingsregeling langzaam afgebouwd tot 2031. Let op: dit is een voorstel, dus het kan nog veranderen. Het wetsvoorstel is ingediend bij de Eerste Kamer ter bespreking.\\n\\n\\nSubsidie voor gezamenlijk elektriciteit opwekken\\n------------------------------------------------\\n\\n\\nHeeft u geen eigen dak waarop u zonnepanelen kunt leggen? Dan kunt u ook met anderen zonnepanelen op het dak van een gebouw in de buurt laten plaatsen. Dit heet een energiecoöperatie.\\n\\n\\nEen energiecoöperatie komt in aanmerking voor de\\xa0[Subsidieregeling coöperatieve energieopwekking (SCE)](https://www.rvo.nl/subsidie-en-financieringswijzer/sce). Dit is een regeling voor energiecoöperaties en verenigingen van eigenaren die hernieuwbare elektriciteit willen opwekken via zonne-energie, windenergie of waterkracht. Dit moet wel in de eigen leefomgeving gebeuren, die afgebakend is door een postcoderoos.\\n\\n\\nDe SCE vervangt sinds 1 april 2021 de postcoderoosregeling. Via de Rijksdienst voor Ondernemend Nederland (RVO) vindt u [een overzicht van alle subsidies en regelingen voor het opwekken van elektriciteit via zonnepanelen](https://www.rvo.nl/onderwerpen/zonne-energie/subsidies-regelingen).\\n\\n\\n\\nOnderwerpen: Energie thuis, Duurzame energie\\nThema's: Economie, Bouwen en wonen, Klimaat, milieu en natuur\\n\",\n",
       "   'identifier': '4345f5cb-bcd9-44d4-91ba-b18a916dbde3',\n",
       "   'source': 'https://www.rijksoverheid.nl/onderwerpen/energie-thuis/vraag-en-antwoord/krijg-ik-subsidie-voor-zonnepanelen'},\n",
       "  {'page_content': \"Vraag: Krijg ik subsidie voor zonnepanelen?\\nAntwoord:\\nEr zijn verschillende financiële regelingen om de aankoop en het gebruik van zonnepanelen aantrekkelijk te maken.\\xa0\\n\\n\\nGoedkoop geld lenen voor aankoop en installatie van zonnepanelen\\nOm zonnepanelen te betalen, kunt u gebruikmaken van de [Energiebespaarlening](https://www.warmtefonds.nl/particulieren/energiebesparende-maatregelen/zonnepanelen). Met deze lening kunt u energiebesparende maatregelen in of aan uw huis betalen.\\n\\n\\nGeen btw op zonnepanelen\\n------------------------\\n\\n\\n Sinds 2023 is de btw op zonnepanelen 0%. Dit nultarief geldt alleen als de zonnepanelen worden geplaatst op woningen of bijgebouwen van een woning.\\n\\n\\nRegeling voor zelfgeproduceerde elektriciteit (salderingsregeling)\\nZelfgeproduceerde elektriciteit mag u aan het elektriciteitsnet leveren. En wegstrepen tegen uw verbruik op een ander moment.\\xa0Dit heet salderen. De [salderingsregeling](https://www.rijksoverheid.nl/onderwerpen/energie-thuis/plan-kabinet-afbouw-salderingsregeling-zonnepanelen) geldt tot 1 januari 2025. Vanaf 2025 wordt de salderingsregeling langzaam afgebouwd tot 2031. Let op: dit is een voorstel, dus het kan nog veranderen. Het wetsvoorstel is ingediend bij de Eerste Kamer ter bespreking.\\n\\n\\nSubsidie voor gezamenlijk elektriciteit opwekken\\n------------------------------------------------\\n\\n\\nHeeft u geen eigen dak waarop u zonnepanelen kunt leggen? Dan kunt u ook met anderen zonnepanelen op het dak van een gebouw in de buurt laten plaatsen. Dit heet een energiecoöperatie.\\n\\n\\nEen energiecoöperatie komt in aanmerking voor de\\xa0[Subsidieregeling coöperatieve energieopwekking (SCE)](https://www.rvo.nl/subsidie-en-financieringswijzer/sce). Dit is een regeling voor energiecoöperaties en verenigingen van eigenaren die hernieuwbare elektriciteit willen opwekken via zonne-energie, windenergie of waterkracht. Dit moet wel in de eigen leefomgeving gebeuren, die afgebakend is door een postcoderoos.\\n\\n\\nDe SCE vervangt sinds 1 april 2021 de postcoderoosregeling. Via de Rijksdienst voor Ondernemend Nederland (RVO) vindt u [een overzicht van alle subsidies en regelingen voor het opwekken van elektriciteit via zonnepanelen](https://www.rvo.nl/onderwerpen/zonne-energie/subsidies-regelingen).\\n\\n\\n\\nOnderwerpen: Energie thuis, Duurzame energie\\nThema's: Economie, Bouwen en wonen, Klimaat, milieu en natuur\\n\",\n",
       "   'identifier': '4345f5cb-bcd9-44d4-91ba-b18a916dbde3',\n",
       "   'source': 'https://www.rijksoverheid.nl/onderwerpen/energie-thuis/vraag-en-antwoord/krijg-ik-subsidie-voor-zonnepanelen'},\n",
       "  {'page_content': \"Vraag: Heb ik een vergunning nodig om zonnepanelen op mijn dak te plaatsen?\\nAntwoord:\\nIn de meeste gevallen is geen (omgevings-)vergunning nodig voor plaatsing van zonnepanelen of zonnecollectoren. Soms is een vergunning wel nodig. Bijvoorbeeld als het niet past in het plaatselijke bestemmingsplan. Uw gemeente informeert u hierover.\\n\\n\\nVergunningcheck en regelgeving\\nOp Omgevingsloket kunt u een [vergunningcheck](https://www.omgevingsloket.nl/Particulier/particulier/home/checken?init=true) doen voor plaatsing van zonnepanelen of zonnecollectoren. In welke gevallen u een vergunning moet aanvragen, leest u ook in de [folder Zonnecollectoren en zonnepanelen](https://www.rijksoverheid.nl/documenten/brochures/2010/07/20/zonnecollectoren-en-zonnepanelen).\\n\\n\\nDaarin staat bovendien informatie over de regels die gelden voor plaatsing van zonnepanelen en zonnecollectoren. Zo moet de hellingshoek van de collector of het paneel hetzelfde zijn als die van het dak.\\n\\n\\n\\nOnderwerpen: Energie thuis, Duurzame energie\\nThema's: Economie, Bouwen en wonen, Klimaat, milieu en natuur\\n\",\n",
       "   'identifier': '5a916f22-348a-4bf8-8dd1-6948a1b1d54d',\n",
       "   'source': 'https://www.rijksoverheid.nl/onderwerpen/energie-thuis/vraag-en-antwoord/heb-ik-een-vergunning-nodig-om-zonnepanelen-op-mijn-dak-te-plaatsen'},\n",
       "  {'page_content': \"Vraag: Heb ik een vergunning nodig om zonnepanelen op mijn dak te plaatsen?\\nAntwoord:\\nIn de meeste gevallen is geen (omgevings-)vergunning nodig voor plaatsing van zonnepanelen of zonnecollectoren. Soms is een vergunning wel nodig. Bijvoorbeeld als het niet past in het plaatselijke bestemmingsplan. Uw gemeente informeert u hierover.\\n\\n\\nVergunningcheck en regelgeving\\nOp Omgevingsloket kunt u een [vergunningcheck](https://www.omgevingsloket.nl/Particulier/particulier/home/checken?init=true) doen voor plaatsing van zonnepanelen of zonnecollectoren. In welke gevallen u een vergunning moet aanvragen, leest u ook in de [folder Zonnecollectoren en zonnepanelen](https://www.rijksoverheid.nl/documenten/brochures/2010/07/20/zonnecollectoren-en-zonnepanelen).\\n\\n\\nDaarin staat bovendien informatie over de regels die gelden voor plaatsing van zonnepanelen en zonnecollectoren. Zo moet de hellingshoek van de collector of het paneel hetzelfde zijn als die van het dak.\\n\\n\\n\\nOnderwerpen: Energie thuis, Duurzame energie\\nThema's: Economie, Bouwen en wonen, Klimaat, milieu en natuur\\n\",\n",
       "   'identifier': '5a916f22-348a-4bf8-8dd1-6948a1b1d54d',\n",
       "   'source': 'https://www.rijksoverheid.nl/onderwerpen/energie-thuis/vraag-en-antwoord/heb-ik-een-vergunning-nodig-om-zonnepanelen-op-mijn-dak-te-plaatsen'},\n",
       "  {'page_content': \"Vraag: Betaal ik btw over mijn energiebelasting?\\nAntwoord:\\nOver energiebelasting betaalt u 21% btw. Een ondernemer die goederen of diensten levert, berekent u btw over de totale verkoopprijs van een product. Dit is geregeld in de Wet op de omzetbelasting (btw heet ook wel omzetbelasting). U betaalt hierdoor btw over de energie en over de energiebelasting.\\n\\n\\nPlan kabinet: tijdelijk lagere btw op energie\\nVan 1 juli tot en met 31 december 2022 is de btw op energie (aardgas, elektriciteit en stadsverwarming) verlaagd van 21% naar 9%. Het lagere btw-tarief geldt voor alle onderdelen op de energierekening die te maken hebben met de levering van energie. Hierdoor betaalt u ook minder btw over de energiebelasting.\\xa0\\n\\n\\nBetaalwijze btw over energiebelasting\\nU betaalt de btw aan uw energieleverancier. Uw energieleverancier draagt de btw daarna weer af aan de Belastingdienst.\\n\\n\\n### Belastingvermindering op energiebelasting\\n\\n\\nU betaalt geen energiebelasting over een deel van uw energieverbruik.\\xa0Dit is de hoeveelheid gas en elektriciteit die elk huishouden minimaal nodig heeft (de basisbehoefte).\\n\\n\\nMeer informatie over energiebelasting\\nVoor meer informatie over energiebelasting kunt u contact opnemen met de [BelastingTelefoon](https://www.rijksoverheid.nl/contact/contactgids/belastingdienst-belastingtelefoon).\\n\\n\\n\\nOnderwerpen: Belasting betalen, Milieubelastingen, Energie thuis\\nThema's: Economie, Belastingen, uitkeringen en toeslagen, Bouwen en wonen, Klimaat, milieu en natuur\\n\",\n",
       "   'identifier': 'c1b54b51-4534-4616-82ae-d0a4a686a84d',\n",
       "   'source': 'https://www.rijksoverheid.nl/onderwerpen/belasting-betalen/vraag-en-antwoord/betaal-ik-btw-over-mijn-energiebelasting'}]}"
      ]
     },
     "execution_count": 125,
     "metadata": {},
     "output_type": "execute_result"
    }
   ],
   "source": [
    "get_answer_from_llm(\"Zit er BTW op zonnepanelen?\")"
   ]
  },
  {
   "cell_type": "code",
   "execution_count": null,
   "metadata": {},
   "outputs": [],
   "source": []
  }
 ],
 "metadata": {
  "kernelspec": {
   "display_name": "feedbackfrontiers-3xN2_Ao--py3.11",
   "language": "python",
   "name": "python3"
  },
  "language_info": {
   "codemirror_mode": {
    "name": "ipython",
    "version": 3
   },
   "file_extension": ".py",
   "mimetype": "text/x-python",
   "name": "python",
   "nbconvert_exporter": "python",
   "pygments_lexer": "ipython3",
   "version": "3.11.4"
  }
 },
 "nbformat": 4,
 "nbformat_minor": 2
}
