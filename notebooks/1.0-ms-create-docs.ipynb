{
 "cells": [
  {
   "cell_type": "code",
   "execution_count": 56,
   "metadata": {},
   "outputs": [],
   "source": [
    "import json\n",
    "from bs4 import BeautifulSoup\n",
    "from markdownify import markdownify\n",
    "from dotenv import find_dotenv, load_dotenv\n",
    "import os\n",
    "from langchain.chains import RetrievalQA\n",
    "from langchain.chat_models import ChatOpenAI\n",
    "from langchain.docstore.document import Document\n",
    "from langchain.embeddings.openai import OpenAIEmbeddings\n",
    "from langchain.prompts import PromptTemplate\n",
    "from langchain.vectorstores import FAISS"
   ]
  },
  {
   "cell_type": "code",
   "execution_count": 52,
   "metadata": {},
   "outputs": [
    {
     "data": {
      "text/plain": [
       "True"
      ]
     },
     "execution_count": 52,
     "metadata": {},
     "output_type": "execute_result"
    }
   ],
   "source": [
    "# Load environment variables\n",
    "load_dotenv(find_dotenv())"
   ]
  },
  {
   "cell_type": "markdown",
   "metadata": {},
   "source": [
    "## Step 1: Create content for vector db"
   ]
  },
  {
   "cell_type": "code",
   "execution_count": 13,
   "metadata": {},
   "outputs": [],
   "source": [
    "def html_to_markdown(html_string):\n",
    "    # Parse the HTML string using BeautifulSoup\n",
    "    soup = BeautifulSoup(html_string, 'html.parser')\n",
    "\n",
    "    # Convert the parsed HTML to Markdown using markdownify\n",
    "    markdown_text = markdownify(str(soup))\n",
    "\n",
    "    return markdown_text"
   ]
  },
  {
   "cell_type": "code",
   "execution_count": 3,
   "metadata": {},
   "outputs": [],
   "source": [
    "with open('./../data/qa-data.json', 'r') as file:\n",
    "    data = json.load(file)"
   ]
  },
  {
   "cell_type": "code",
   "execution_count": 46,
   "metadata": {},
   "outputs": [],
   "source": [
    "def create_content_snippet(question):\n",
    "    # Get all content pieces in the answer\n",
    "    content_pieces = list(map(lambda content_piece: [html_to_markdown(paragraph) for paragraph in content_piece.values()], data[0][\"answer\"][\"content\"]))\n",
    "    concat_content = \"\\n\".join([item for row in content_pieces for item in row])\n",
    "\n",
    "    return f\"\"\"Vraag: {question[\"question\"]}\n",
    "Antwoord:\n",
    "{html_to_markdown(question[\"answer\"][\"introduction\"]) if \"introduction\" in question[\"answer\"].keys() else \"\"}\n",
    "{concat_content}\n",
    "\n",
    "{\"Onderwerpen: \" + \", \".join(question[\"answer\"][\"subjects\"]) if \"subjects\" in question[\"answer\"].keys() else \"\"}\n",
    "{\"Thema's: \" + \", \".join(question[\"answer\"][\"themes\"]) if \"themes\" in question[\"answer\"].keys() else \"\"}\n",
    "{\"Autoriteit: \" + question[\"answer\"][\"authority\"] if \"authority\" in question[\"answer\"].keys() else \"\"}\"\"\""
   ]
  },
  {
   "cell_type": "code",
   "execution_count": 47,
   "metadata": {},
   "outputs": [],
   "source": [
    "for qa in data:\n",
    "    qa[\"content\"] = create_content_snippet(qa)"
   ]
  },
  {
   "cell_type": "markdown",
   "metadata": {},
   "source": [
    "## Step 2: Build vector db"
   ]
  },
  {
   "cell_type": "code",
   "execution_count": 72,
   "metadata": {},
   "outputs": [],
   "source": [
    "# Ready all models\n",
    "embedding = OpenAIEmbeddings()\n",
    "llm = ChatOpenAI(model_name=\"gpt-4\", temperature=0)"
   ]
  },
  {
   "cell_type": "code",
   "execution_count": 55,
   "metadata": {},
   "outputs": [],
   "source": [
    "vectordb_persist_dir = \"./../data/faiss_index\""
   ]
  },
  {
   "cell_type": "code",
   "execution_count": 58,
   "metadata": {},
   "outputs": [
    {
     "data": {
      "text/plain": [
       "{'id': '62bdc113-aee1-4469-bc36-4c7c3fc39a4d',\n",
       " 'type': 'vraag en antwoord',\n",
       " 'canonical': 'https://www.rijksoverheid.nl/onderwerpen/leerplicht/vraag-en-antwoord/leerplicht-schoolvakanties',\n",
       " 'dataurl': 'https://opendata.rijksoverheid.nl/v1/infotypes/faq/62bdc113-aee1-4469-bc36-4c7c3fc39a4d',\n",
       " 'question': 'Mag ik mijn kind meenemen op vakantie buiten de schoolvakantie?',\n",
       " 'lastmodified': '2023-05-31T13:52:55.841Z',\n",
       " 'answer': {'id': '62bdc113-aee1-4469-bc36-4c7c3fc39a4d',\n",
       "  'type': 'vraag en antwoord',\n",
       "  'canonical': 'https://www.rijksoverheid.nl/onderwerpen/leerplicht/vraag-en-antwoord/leerplicht-schoolvakanties',\n",
       "  'dataurl': 'https://opendata.rijksoverheid.nl/v1/infotypes/faq/62bdc113-aee1-4469-bc36-4c7c3fc39a4d',\n",
       "  'question': 'Mag ik mijn kind meenemen op vakantie buiten de schoolvakantie?',\n",
       "  'introduction': '<p>U mag uw kind niet meenemen op vakantie buiten de schoolvakanties. U kunt een boete krijgen als u dit wel doet. Als u in de schoolvakanties niet weg kunt door uw werk kunt u toestemming vragen om buiten de schoolvakanties op vakantie te gaan.</p>',\n",
       "  'content': [{'paragraphtitle': 'Vrij buiten de schoolvakanties',\n",
       "    'paragraph': '<p>Soms kunt u door uw werk tijdens geen enkele schoolvakantie in het schooljaar met uw gezin op vakantie. Dit moet dan komen door de specifieke aard van uw beroep. Bijvoorbeeld omdat u:</p>\\n\\n<ul>\\n <li>seizoensgebonden werk heeft, bijvoorbeeld in de fruitteelt of horeca;</li>\\n <li>met piekdrukte te maken krijgt tijdens schoolvakanties;</li>\\n <li>als zelfstandige een groot deel van uw inkomen mist als u tijdens de schoolvakanties weg bent.</li>\\n</ul>\\n\\n<p>In dat geval kunt <a href=\"https://www.rijksoverheid.nl/wetten-en-regelingen/productbeschrijvingen/vrijstelling-leerplicht\">toestemming vragen voor verlof buiten de schoolvakanties</a>. Dit heet ‘beroep op vrijstelling’.</p>'},\n",
       "   {'paragraphtitle': 'Toestemming aanvragen bij directeur van de school',\n",
       "    'paragraph': '<p>U vraagt toestemming bij de directeur van de school. Dit moet 8 weken of eerder voordat u op vakantie gaat. De directeur mag uw kind vrij geven voor maximaal 10 dagen. Dit mag 1 keer in een schooljaar. Langer op vakantie gaan buiten de schoolvakanties mag niet van de wet.\\xa0</p>\\n\\n<p>De directeur beslist of uw kind buiten schoolvakanties op vakantie mag.\\xa0Bent u het niet eens met de beslissing? Dan kunt u dit schriftelijk aan de directeur melden. \\xa0</p>\\n\\n<p><strong>Bewijzen dat u niet tijdens schoolvakantie op vakantie kunt</strong></p>\\n\\n<p>Kunt u geen enkele schoolvakantie 2 weken achter elkaar op vakantie? En komt dit door uw werk? Dan moet u dit kunnen bewijzen:</p>\\n\\n<ul>\\n <li>Als ondernemer moet u kunnen aantonen\\xa0 dat u een groot deel van uw inkomsten mist als u tijdens schoolvakanties op vakantie gaat.\\xa0</li>\\n <li>Als werknemer kunt u\\xa0een verklaring van uw werkgever overleggen. Bijvoorbeeld\\xa0als u seizoenswerk doet.</li>\\n</ul>'},\n",
       "   {'paragraphtitle': 'Voorwaarden vakantie buiten de schoolvakanties',\n",
       "    'paragraph': '<p>Uw kind krijgt alleen vrij om op vakantie te gaan als:</p>\\n\\n<ul>\\n <li>dit niet in de eerste 2 weken na de zomervakantie is;</li>\\n <li>u door uw werk niet op vakantie kunt tijdens schoolvakanties;\\xa0</li>\\n <li>u dit schooljaar nog niet buiten de schoolvakanties op vakantie bent geweest;</li>\\n <li>u niet 2 weken achter elkaar op vakantie kunt met uw gezin. In geen enkele schoolvakantie.</li>\\n</ul>'},\n",
       "   {'paragraphtitle': 'Vrij voor bijzondere gebeurtenissen',\n",
       "    'paragraph': '<p>Uw kind kan ook vrij krijgen bij bijzondere gebeurtenissen. Bijvoorbeeld bij een begrafenis of huwelijk. Hiervoor moet u toestemming vragen. Dit doet u bij de directeur van de school. Bij bijzondere gebeurtenissen kunt u voor meer dan 10 dagen vrij vragen. U moet toestemming vragen aan de leerplichtambtenaar van de gemeente. Hij controleert of kinderen naar school gaan.</p>'}],\n",
       "  'authorities': ['Ministerie van Onderwijs, Cultuur en Wetenschap'],\n",
       "  'subjects': ['Leerplicht', 'Reizen met kinderen', 'Schoolvakanties'],\n",
       "  'themes': ['Migratie en reizen', 'Onderwijs'],\n",
       "  'organisationalunits': ['Ministerie van Onderwijs, Cultuur en Wetenschap'],\n",
       "  'lastmodified': '2023-05-31T13:52:55.841Z',\n",
       "  'license': 'CC0 1.0 Universal',\n",
       "  'rightsholders': ['Ministerie van Algemene Zaken'],\n",
       "  'language': 'nl-NL',\n",
       "  'location': 'Nederland'},\n",
       " 'content': \"Vraag: Mag ik mijn kind meenemen op vakantie buiten de schoolvakantie?\\nAntwoord:\\nU mag uw kind niet meenemen op vakantie buiten de schoolvakanties. U kunt een boete krijgen als u dit wel doet. Als u in de schoolvakanties niet weg kunt door uw werk kunt u toestemming vragen om buiten de schoolvakanties op vakantie te gaan.\\n\\n\\nVrij buiten de schoolvakanties\\nSoms kunt u door uw werk tijdens geen enkele schoolvakantie in het schooljaar met uw gezin op vakantie. Dit moet dan komen door de specifieke aard van uw beroep. Bijvoorbeeld omdat u:\\n\\n\\n* seizoensgebonden werk heeft, bijvoorbeeld in de fruitteelt of horeca;\\n* met piekdrukte te maken krijgt tijdens schoolvakanties;\\n* als zelfstandige een groot deel van uw inkomen mist als u tijdens de schoolvakanties weg bent.\\n\\n\\nIn dat geval kunt [toestemming vragen voor verlof buiten de schoolvakanties](https://www.rijksoverheid.nl/wetten-en-regelingen/productbeschrijvingen/vrijstelling-leerplicht). Dit heet ‘beroep op vrijstelling’.\\n\\n\\nToestemming aanvragen bij directeur van de school\\nU vraagt toestemming bij de directeur van de school. Dit moet 8 weken of eerder voordat u op vakantie gaat. De directeur mag uw kind vrij geven voor maximaal 10 dagen. Dit mag 1 keer in een schooljaar. Langer op vakantie gaan buiten de schoolvakanties mag niet van de wet.\\xa0\\n\\n\\nDe directeur beslist of uw kind buiten schoolvakanties op vakantie mag.\\xa0Bent u het niet eens met de beslissing? Dan kunt u dit schriftelijk aan de directeur melden. \\xa0\\n\\n\\n**Bewijzen dat u niet tijdens schoolvakantie op vakantie kunt**\\n\\n\\nKunt u geen enkele schoolvakantie 2 weken achter elkaar op vakantie? En komt dit door uw werk? Dan moet u dit kunnen bewijzen:\\n\\n\\n* Als ondernemer moet u kunnen aantonen\\xa0 dat u een groot deel van uw inkomsten mist als u tijdens schoolvakanties op vakantie gaat.\\n* Als werknemer kunt u\\xa0een verklaring van uw werkgever overleggen. Bijvoorbeeld\\xa0als u seizoenswerk doet.\\n\\nVoorwaarden vakantie buiten de schoolvakanties\\nUw kind krijgt alleen vrij om op vakantie te gaan als:\\n\\n\\n* dit niet in de eerste 2 weken na de zomervakantie is;\\n* u door uw werk niet op vakantie kunt tijdens schoolvakanties;\\n* u dit schooljaar nog niet buiten de schoolvakanties op vakantie bent geweest;\\n* u niet 2 weken achter elkaar op vakantie kunt met uw gezin. In geen enkele schoolvakantie.\\n\\nVrij voor bijzondere gebeurtenissen\\nUw kind kan ook vrij krijgen bij bijzondere gebeurtenissen. Bijvoorbeeld bij een begrafenis of huwelijk. Hiervoor moet u toestemming vragen. Dit doet u bij de directeur van de school. Bij bijzondere gebeurtenissen kunt u voor meer dan 10 dagen vrij vragen. U moet toestemming vragen aan de leerplichtambtenaar van de gemeente. Hij controleert of kinderen naar school gaan.\\n\\n\\n\\nOnderwerpen: Leerplicht, Reizen met kinderen, Schoolvakanties\\nThema's: Migratie en reizen, Onderwijs\\n\"}"
      ]
     },
     "execution_count": 58,
     "metadata": {},
     "output_type": "execute_result"
    }
   ],
   "source": [
    "data[0]"
   ]
  },
  {
   "cell_type": "code",
   "execution_count": 64,
   "metadata": {},
   "outputs": [],
   "source": [
    "if not os.path.exists(vectordb_persist_dir):\n",
    "    factors = [\n",
    "        Document(\n",
    "            page_content=qa_item[\"content\"],\n",
    "            metadata={\n",
    "                \"identifier\": qa_item[\"id\"],\n",
    "                \"source\": qa_item[\"canonical\"]\n",
    "            },\n",
    "        )\n",
    "        for qa_item in data\n",
    "    ]\n",
    "\n",
    "    # Create vector store\n",
    "    vectordb = FAISS.from_documents(\n",
    "        documents=factors,\n",
    "        embedding=embedding,\n",
    "    )\n",
    "    vectordb.save_local(vectordb_persist_dir)\n",
    "else:\n",
    "    # ChromaDB has been initialised before, recreate instance\n",
    "    vectordb = FAISS.load_local(vectordb_persist_dir, embedding)"
   ]
  },
  {
   "cell_type": "code",
   "execution_count": 73,
   "metadata": {},
   "outputs": [],
   "source": [
    "def get_answer_from_llm(query):    \n",
    "    # Build prompt\n",
    "    template = \"\"\"Gedraag je als een helpvolle assistent voor mensen die op zoek zijn naar allerlei antwoorden op vragen die iets te maken hebben met de Rijksoverheid. Beantwoord deze vraag ALLEEN op basis van de gegeven bronnen, niet op basis van eigen kennis. Als je de vraag niet kan beantwoorden, verontschuldig je en zeg dat de webmaster op de hoogte is gebracht van het niet hebben van de gevraagde informatie.\n",
    "    Bronnen: ```{context}```\n",
    "    Vraag: ```{question}```\"\"\"\n",
    "    qa_chain_prompt = PromptTemplate.from_template(template)\n",
    "\n",
    "    # Define search kwargs\n",
    "    search_kwargs = {\"k\": 5}\n",
    "\n",
    "    # Create QA chain\n",
    "    qa_chain = RetrievalQA.from_chain_type(\n",
    "        llm,\n",
    "        retriever=vectordb.as_retriever(search_kwargs=search_kwargs),\n",
    "        return_source_documents=True,\n",
    "        chain_type_kwargs={\"prompt\": qa_chain_prompt},\n",
    "    )\n",
    "\n",
    "    # Get result\n",
    "    result = qa_chain({\"query\": query})\n",
    "\n",
    "    return (\n",
    "        result\n",
    "    )"
   ]
  },
  {
   "cell_type": "code",
   "execution_count": 74,
   "metadata": {},
   "outputs": [
    {
     "data": {
      "text/plain": [
       "{'query': 'Wanneer betaal ik belasting?',\n",
       " 'result': 'Op basis van de gegeven bronnen betaalt u belasting in de volgende situaties:\\n\\n1. U betaalt erfbelasting als u een erfenis krijgt. Hoeveel erfbelasting u moet betalen, hangt af van uw relatie met de overledene en van het bedrag dat u erft.\\n\\n2. Over energiebelasting betaalt u 21% btw. U betaalt hierdoor btw over de energie en over de energiebelasting.\\n\\n3. Als u een schenking of gift krijgt, betaalt u schenkbelasting aan de Belastingdienst. Een schenking bestaat meestal uit geld of goederen.\\n\\nLet op: dit zijn slechts enkele voorbeelden van wanneer u belasting betaalt. Er zijn nog veel meer situaties waarin u belasting moet betalen. Voor meer specifieke informatie kunt u het beste contact opnemen met de Belastingdienst of een belastingadviseur.',\n",
       " 'source_documents': [Document(page_content=\"Vraag: Wanneer betaal ik erfbelasting?\\nAntwoord:\\nU betaalt erfbelasting als u een erfenis krijgt. Hoeveel erfbelasting u moet betalen, hangt af van uw relatie met de overledene. En van het bedrag dat u erft.\\n\\n\\nVrij buiten de schoolvakanties\\nSoms kunt u door uw werk tijdens geen enkele schoolvakantie in het schooljaar met uw gezin op vakantie. Dit moet dan komen door de specifieke aard van uw beroep. Bijvoorbeeld omdat u:\\n\\n\\n* seizoensgebonden werk heeft, bijvoorbeeld in de fruitteelt of horeca;\\n* met piekdrukte te maken krijgt tijdens schoolvakanties;\\n* als zelfstandige een groot deel van uw inkomen mist als u tijdens de schoolvakanties weg bent.\\n\\n\\nIn dat geval kunt [toestemming vragen voor verlof buiten de schoolvakanties](https://www.rijksoverheid.nl/wetten-en-regelingen/productbeschrijvingen/vrijstelling-leerplicht). Dit heet ‘beroep op vrijstelling’.\\n\\n\\nToestemming aanvragen bij directeur van de school\\nU vraagt toestemming bij de directeur van de school. Dit moet 8 weken of eerder voordat u op vakantie gaat. De directeur mag uw kind vrij geven voor maximaal 10 dagen. Dit mag 1 keer in een schooljaar. Langer op vakantie gaan buiten de schoolvakanties mag niet van de wet.\\xa0\\n\\n\\nDe directeur beslist of uw kind buiten schoolvakanties op vakantie mag.\\xa0Bent u het niet eens met de beslissing? Dan kunt u dit schriftelijk aan de directeur melden. \\xa0\\n\\n\\n**Bewijzen dat u niet tijdens schoolvakantie op vakantie kunt**\\n\\n\\nKunt u geen enkele schoolvakantie 2 weken achter elkaar op vakantie? En komt dit door uw werk? Dan moet u dit kunnen bewijzen:\\n\\n\\n* Als ondernemer moet u kunnen aantonen\\xa0 dat u een groot deel van uw inkomsten mist als u tijdens schoolvakanties op vakantie gaat.\\n* Als werknemer kunt u\\xa0een verklaring van uw werkgever overleggen. Bijvoorbeeld\\xa0als u seizoenswerk doet.\\n\\nVoorwaarden vakantie buiten de schoolvakanties\\nUw kind krijgt alleen vrij om op vakantie te gaan als:\\n\\n\\n* dit niet in de eerste 2 weken na de zomervakantie is;\\n* u door uw werk niet op vakantie kunt tijdens schoolvakanties;\\n* u dit schooljaar nog niet buiten de schoolvakanties op vakantie bent geweest;\\n* u niet 2 weken achter elkaar op vakantie kunt met uw gezin. In geen enkele schoolvakantie.\\n\\nVrij voor bijzondere gebeurtenissen\\nUw kind kan ook vrij krijgen bij bijzondere gebeurtenissen. Bijvoorbeeld bij een begrafenis of huwelijk. Hiervoor moet u toestemming vragen. Dit doet u bij de directeur van de school. Bij bijzondere gebeurtenissen kunt u voor meer dan 10 dagen vrij vragen. U moet toestemming vragen aan de leerplichtambtenaar van de gemeente. Hij controleert of kinderen naar school gaan.\\n\\n\\n\\nOnderwerpen: Belasting betalen\\nThema's: Economie, Belastingen, uitkeringen en toeslagen\\n\", metadata={'identifier': '8ee7407b-2921-4b1e-8f07-89be59fe0a04', 'source': 'https://www.rijksoverheid.nl/onderwerpen/belasting-betalen/vraag-en-antwoord/erfbelasting-betalen'}),\n",
       "  Document(page_content=\"Vraag: Betaal ik btw over mijn energiebelasting?\\nAntwoord:\\nOver energiebelasting betaalt u 21% btw. Een ondernemer die goederen of diensten levert, berekent u btw over de totale verkoopprijs van een product. Dit is geregeld in de Wet op de omzetbelasting (btw heet ook wel omzetbelasting). U betaalt hierdoor btw over de energie en over de energiebelasting.\\n\\n\\nVrij buiten de schoolvakanties\\nSoms kunt u door uw werk tijdens geen enkele schoolvakantie in het schooljaar met uw gezin op vakantie. Dit moet dan komen door de specifieke aard van uw beroep. Bijvoorbeeld omdat u:\\n\\n\\n* seizoensgebonden werk heeft, bijvoorbeeld in de fruitteelt of horeca;\\n* met piekdrukte te maken krijgt tijdens schoolvakanties;\\n* als zelfstandige een groot deel van uw inkomen mist als u tijdens de schoolvakanties weg bent.\\n\\n\\nIn dat geval kunt [toestemming vragen voor verlof buiten de schoolvakanties](https://www.rijksoverheid.nl/wetten-en-regelingen/productbeschrijvingen/vrijstelling-leerplicht). Dit heet ‘beroep op vrijstelling’.\\n\\n\\nToestemming aanvragen bij directeur van de school\\nU vraagt toestemming bij de directeur van de school. Dit moet 8 weken of eerder voordat u op vakantie gaat. De directeur mag uw kind vrij geven voor maximaal 10 dagen. Dit mag 1 keer in een schooljaar. Langer op vakantie gaan buiten de schoolvakanties mag niet van de wet.\\xa0\\n\\n\\nDe directeur beslist of uw kind buiten schoolvakanties op vakantie mag.\\xa0Bent u het niet eens met de beslissing? Dan kunt u dit schriftelijk aan de directeur melden. \\xa0\\n\\n\\n**Bewijzen dat u niet tijdens schoolvakantie op vakantie kunt**\\n\\n\\nKunt u geen enkele schoolvakantie 2 weken achter elkaar op vakantie? En komt dit door uw werk? Dan moet u dit kunnen bewijzen:\\n\\n\\n* Als ondernemer moet u kunnen aantonen\\xa0 dat u een groot deel van uw inkomsten mist als u tijdens schoolvakanties op vakantie gaat.\\n* Als werknemer kunt u\\xa0een verklaring van uw werkgever overleggen. Bijvoorbeeld\\xa0als u seizoenswerk doet.\\n\\nVoorwaarden vakantie buiten de schoolvakanties\\nUw kind krijgt alleen vrij om op vakantie te gaan als:\\n\\n\\n* dit niet in de eerste 2 weken na de zomervakantie is;\\n* u door uw werk niet op vakantie kunt tijdens schoolvakanties;\\n* u dit schooljaar nog niet buiten de schoolvakanties op vakantie bent geweest;\\n* u niet 2 weken achter elkaar op vakantie kunt met uw gezin. In geen enkele schoolvakantie.\\n\\nVrij voor bijzondere gebeurtenissen\\nUw kind kan ook vrij krijgen bij bijzondere gebeurtenissen. Bijvoorbeeld bij een begrafenis of huwelijk. Hiervoor moet u toestemming vragen. Dit doet u bij de directeur van de school. Bij bijzondere gebeurtenissen kunt u voor meer dan 10 dagen vrij vragen. U moet toestemming vragen aan de leerplichtambtenaar van de gemeente. Hij controleert of kinderen naar school gaan.\\n\\n\\n\\nOnderwerpen: Belasting betalen, Milieubelastingen, Energie thuis\\nThema's: Economie, Belastingen, uitkeringen en toeslagen, Bouwen en wonen, Klimaat, milieu en natuur\\n\", metadata={'identifier': 'c1b54b51-4534-4616-82ae-d0a4a686a84d', 'source': 'https://www.rijksoverheid.nl/onderwerpen/belasting-betalen/vraag-en-antwoord/betaal-ik-btw-over-mijn-energiebelasting'}),\n",
       "  Document(page_content=\"Vraag: Betaal ik btw over mijn energiebelasting?\\nAntwoord:\\nOver energiebelasting betaalt u 21% btw. Een ondernemer die goederen of diensten levert, berekent u btw over de totale verkoopprijs van een product. Dit is geregeld in de Wet op de omzetbelasting (btw heet ook wel omzetbelasting). U betaalt hierdoor btw over de energie en over de energiebelasting.\\n\\n\\nVrij buiten de schoolvakanties\\nSoms kunt u door uw werk tijdens geen enkele schoolvakantie in het schooljaar met uw gezin op vakantie. Dit moet dan komen door de specifieke aard van uw beroep. Bijvoorbeeld omdat u:\\n\\n\\n* seizoensgebonden werk heeft, bijvoorbeeld in de fruitteelt of horeca;\\n* met piekdrukte te maken krijgt tijdens schoolvakanties;\\n* als zelfstandige een groot deel van uw inkomen mist als u tijdens de schoolvakanties weg bent.\\n\\n\\nIn dat geval kunt [toestemming vragen voor verlof buiten de schoolvakanties](https://www.rijksoverheid.nl/wetten-en-regelingen/productbeschrijvingen/vrijstelling-leerplicht). Dit heet ‘beroep op vrijstelling’.\\n\\n\\nToestemming aanvragen bij directeur van de school\\nU vraagt toestemming bij de directeur van de school. Dit moet 8 weken of eerder voordat u op vakantie gaat. De directeur mag uw kind vrij geven voor maximaal 10 dagen. Dit mag 1 keer in een schooljaar. Langer op vakantie gaan buiten de schoolvakanties mag niet van de wet.\\xa0\\n\\n\\nDe directeur beslist of uw kind buiten schoolvakanties op vakantie mag.\\xa0Bent u het niet eens met de beslissing? Dan kunt u dit schriftelijk aan de directeur melden. \\xa0\\n\\n\\n**Bewijzen dat u niet tijdens schoolvakantie op vakantie kunt**\\n\\n\\nKunt u geen enkele schoolvakantie 2 weken achter elkaar op vakantie? En komt dit door uw werk? Dan moet u dit kunnen bewijzen:\\n\\n\\n* Als ondernemer moet u kunnen aantonen\\xa0 dat u een groot deel van uw inkomsten mist als u tijdens schoolvakanties op vakantie gaat.\\n* Als werknemer kunt u\\xa0een verklaring van uw werkgever overleggen. Bijvoorbeeld\\xa0als u seizoenswerk doet.\\n\\nVoorwaarden vakantie buiten de schoolvakanties\\nUw kind krijgt alleen vrij om op vakantie te gaan als:\\n\\n\\n* dit niet in de eerste 2 weken na de zomervakantie is;\\n* u door uw werk niet op vakantie kunt tijdens schoolvakanties;\\n* u dit schooljaar nog niet buiten de schoolvakanties op vakantie bent geweest;\\n* u niet 2 weken achter elkaar op vakantie kunt met uw gezin. In geen enkele schoolvakantie.\\n\\nVrij voor bijzondere gebeurtenissen\\nUw kind kan ook vrij krijgen bij bijzondere gebeurtenissen. Bijvoorbeeld bij een begrafenis of huwelijk. Hiervoor moet u toestemming vragen. Dit doet u bij de directeur van de school. Bij bijzondere gebeurtenissen kunt u voor meer dan 10 dagen vrij vragen. U moet toestemming vragen aan de leerplichtambtenaar van de gemeente. Hij controleert of kinderen naar school gaan.\\n\\n\\n\\nOnderwerpen: Belasting betalen, Milieubelastingen, Energie thuis\\nThema's: Economie, Belastingen, uitkeringen en toeslagen, Bouwen en wonen, Klimaat, milieu en natuur\\n\", metadata={'identifier': 'c1b54b51-4534-4616-82ae-d0a4a686a84d', 'source': 'https://www.rijksoverheid.nl/onderwerpen/belasting-betalen/vraag-en-antwoord/betaal-ik-btw-over-mijn-energiebelasting'}),\n",
       "  Document(page_content=\"Vraag: Betaal ik btw over mijn energiebelasting?\\nAntwoord:\\nOver energiebelasting betaalt u 21% btw. Een ondernemer die goederen of diensten levert, berekent u btw over de totale verkoopprijs van een product. Dit is geregeld in de Wet op de omzetbelasting (btw heet ook wel omzetbelasting). U betaalt hierdoor btw over de energie en over de energiebelasting.\\n\\n\\nVrij buiten de schoolvakanties\\nSoms kunt u door uw werk tijdens geen enkele schoolvakantie in het schooljaar met uw gezin op vakantie. Dit moet dan komen door de specifieke aard van uw beroep. Bijvoorbeeld omdat u:\\n\\n\\n* seizoensgebonden werk heeft, bijvoorbeeld in de fruitteelt of horeca;\\n* met piekdrukte te maken krijgt tijdens schoolvakanties;\\n* als zelfstandige een groot deel van uw inkomen mist als u tijdens de schoolvakanties weg bent.\\n\\n\\nIn dat geval kunt [toestemming vragen voor verlof buiten de schoolvakanties](https://www.rijksoverheid.nl/wetten-en-regelingen/productbeschrijvingen/vrijstelling-leerplicht). Dit heet ‘beroep op vrijstelling’.\\n\\n\\nToestemming aanvragen bij directeur van de school\\nU vraagt toestemming bij de directeur van de school. Dit moet 8 weken of eerder voordat u op vakantie gaat. De directeur mag uw kind vrij geven voor maximaal 10 dagen. Dit mag 1 keer in een schooljaar. Langer op vakantie gaan buiten de schoolvakanties mag niet van de wet.\\xa0\\n\\n\\nDe directeur beslist of uw kind buiten schoolvakanties op vakantie mag.\\xa0Bent u het niet eens met de beslissing? Dan kunt u dit schriftelijk aan de directeur melden. \\xa0\\n\\n\\n**Bewijzen dat u niet tijdens schoolvakantie op vakantie kunt**\\n\\n\\nKunt u geen enkele schoolvakantie 2 weken achter elkaar op vakantie? En komt dit door uw werk? Dan moet u dit kunnen bewijzen:\\n\\n\\n* Als ondernemer moet u kunnen aantonen\\xa0 dat u een groot deel van uw inkomsten mist als u tijdens schoolvakanties op vakantie gaat.\\n* Als werknemer kunt u\\xa0een verklaring van uw werkgever overleggen. Bijvoorbeeld\\xa0als u seizoenswerk doet.\\n\\nVoorwaarden vakantie buiten de schoolvakanties\\nUw kind krijgt alleen vrij om op vakantie te gaan als:\\n\\n\\n* dit niet in de eerste 2 weken na de zomervakantie is;\\n* u door uw werk niet op vakantie kunt tijdens schoolvakanties;\\n* u dit schooljaar nog niet buiten de schoolvakanties op vakantie bent geweest;\\n* u niet 2 weken achter elkaar op vakantie kunt met uw gezin. In geen enkele schoolvakantie.\\n\\nVrij voor bijzondere gebeurtenissen\\nUw kind kan ook vrij krijgen bij bijzondere gebeurtenissen. Bijvoorbeeld bij een begrafenis of huwelijk. Hiervoor moet u toestemming vragen. Dit doet u bij de directeur van de school. Bij bijzondere gebeurtenissen kunt u voor meer dan 10 dagen vrij vragen. U moet toestemming vragen aan de leerplichtambtenaar van de gemeente. Hij controleert of kinderen naar school gaan.\\n\\n\\n\\nOnderwerpen: Belasting betalen, Milieubelastingen, Energie thuis\\nThema's: Economie, Belastingen, uitkeringen en toeslagen, Bouwen en wonen, Klimaat, milieu en natuur\\n\", metadata={'identifier': 'c1b54b51-4534-4616-82ae-d0a4a686a84d', 'source': 'https://www.rijksoverheid.nl/onderwerpen/belasting-betalen/vraag-en-antwoord/betaal-ik-btw-over-mijn-energiebelasting'}),\n",
       "  Document(page_content=\"Vraag: Wanneer betaal ik schenkbelasting?\\nAntwoord:\\nAls u een schenking of gift krijgt, betaalt u schenkbelasting aan de Belastingdienst. Een schenking bestaat meestal uit geld of goederen.\\n\\n\\nVrij buiten de schoolvakanties\\nSoms kunt u door uw werk tijdens geen enkele schoolvakantie in het schooljaar met uw gezin op vakantie. Dit moet dan komen door de specifieke aard van uw beroep. Bijvoorbeeld omdat u:\\n\\n\\n* seizoensgebonden werk heeft, bijvoorbeeld in de fruitteelt of horeca;\\n* met piekdrukte te maken krijgt tijdens schoolvakanties;\\n* als zelfstandige een groot deel van uw inkomen mist als u tijdens de schoolvakanties weg bent.\\n\\n\\nIn dat geval kunt [toestemming vragen voor verlof buiten de schoolvakanties](https://www.rijksoverheid.nl/wetten-en-regelingen/productbeschrijvingen/vrijstelling-leerplicht). Dit heet ‘beroep op vrijstelling’.\\n\\n\\nToestemming aanvragen bij directeur van de school\\nU vraagt toestemming bij de directeur van de school. Dit moet 8 weken of eerder voordat u op vakantie gaat. De directeur mag uw kind vrij geven voor maximaal 10 dagen. Dit mag 1 keer in een schooljaar. Langer op vakantie gaan buiten de schoolvakanties mag niet van de wet.\\xa0\\n\\n\\nDe directeur beslist of uw kind buiten schoolvakanties op vakantie mag.\\xa0Bent u het niet eens met de beslissing? Dan kunt u dit schriftelijk aan de directeur melden. \\xa0\\n\\n\\n**Bewijzen dat u niet tijdens schoolvakantie op vakantie kunt**\\n\\n\\nKunt u geen enkele schoolvakantie 2 weken achter elkaar op vakantie? En komt dit door uw werk? Dan moet u dit kunnen bewijzen:\\n\\n\\n* Als ondernemer moet u kunnen aantonen\\xa0 dat u een groot deel van uw inkomsten mist als u tijdens schoolvakanties op vakantie gaat.\\n* Als werknemer kunt u\\xa0een verklaring van uw werkgever overleggen. Bijvoorbeeld\\xa0als u seizoenswerk doet.\\n\\nVoorwaarden vakantie buiten de schoolvakanties\\nUw kind krijgt alleen vrij om op vakantie te gaan als:\\n\\n\\n* dit niet in de eerste 2 weken na de zomervakantie is;\\n* u door uw werk niet op vakantie kunt tijdens schoolvakanties;\\n* u dit schooljaar nog niet buiten de schoolvakanties op vakantie bent geweest;\\n* u niet 2 weken achter elkaar op vakantie kunt met uw gezin. In geen enkele schoolvakantie.\\n\\nVrij voor bijzondere gebeurtenissen\\nUw kind kan ook vrij krijgen bij bijzondere gebeurtenissen. Bijvoorbeeld bij een begrafenis of huwelijk. Hiervoor moet u toestemming vragen. Dit doet u bij de directeur van de school. Bij bijzondere gebeurtenissen kunt u voor meer dan 10 dagen vrij vragen. U moet toestemming vragen aan de leerplichtambtenaar van de gemeente. Hij controleert of kinderen naar school gaan.\\n\\n\\n\\nOnderwerpen: Belasting betalen\\nThema's: Economie, Belastingen, uitkeringen en toeslagen\\n\", metadata={'identifier': '3195d50d-2f7e-44a1-9a36-ee0854480343', 'source': 'https://www.rijksoverheid.nl/onderwerpen/belasting-betalen/vraag-en-antwoord/schenkbelasting-betalen'})]}"
      ]
     },
     "execution_count": 74,
     "metadata": {},
     "output_type": "execute_result"
    }
   ],
   "source": [
    "get_answer_from_llm(\"Wanneer betaal ik belasting?\")"
   ]
  },
  {
   "cell_type": "code",
   "execution_count": null,
   "metadata": {},
   "outputs": [],
   "source": []
  }
 ],
 "metadata": {
  "kernelspec": {
   "display_name": "feedbackfrontiers-3xN2_Ao--py3.11",
   "language": "python",
   "name": "python3"
  },
  "language_info": {
   "codemirror_mode": {
    "name": "ipython",
    "version": 3
   },
   "file_extension": ".py",
   "mimetype": "text/x-python",
   "name": "python",
   "nbconvert_exporter": "python",
   "pygments_lexer": "ipython3",
   "version": "3.11.4"
  }
 },
 "nbformat": 4,
 "nbformat_minor": 2
}
