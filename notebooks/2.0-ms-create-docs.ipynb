{
 "cells": [
  {
   "cell_type": "code",
   "execution_count": 1,
   "metadata": {},
   "outputs": [],
   "source": [
    "import json\n",
    "from bs4 import BeautifulSoup\n",
    "from markdownify import markdownify\n",
    "from dotenv import find_dotenv, load_dotenv\n",
    "import os\n",
    "from langchain.chains import RetrievalQA\n",
    "from langchain.chat_models import ChatOpenAI\n",
    "from langchain.docstore.document import Document\n",
    "from langchain.embeddings.openai import OpenAIEmbeddings\n",
    "from langchain.prompts import PromptTemplate\n",
    "from langchain.vectorstores import FAISS"
   ]
  },
  {
   "cell_type": "code",
   "execution_count": 2,
   "metadata": {},
   "outputs": [
    {
     "data": {
      "text/plain": [
       "True"
      ]
     },
     "execution_count": 2,
     "metadata": {},
     "output_type": "execute_result"
    }
   ],
   "source": [
    "# Load environment variables\n",
    "load_dotenv(find_dotenv())"
   ]
  },
  {
   "cell_type": "markdown",
   "metadata": {},
   "source": [
    "## Step 1: Create content for vector db"
   ]
  },
  {
   "cell_type": "code",
   "execution_count": 3,
   "metadata": {},
   "outputs": [],
   "source": [
    "def html_to_markdown(html_string):\n",
    "    # Parse the HTML string using BeautifulSoup\n",
    "    soup = BeautifulSoup(html_string, 'html.parser')\n",
    "\n",
    "    # Convert the parsed HTML to Markdown using markdownify\n",
    "    markdown_text = markdownify(str(soup))\n",
    "\n",
    "    return markdown_text"
   ]
  },
  {
   "cell_type": "code",
   "execution_count": 4,
   "metadata": {},
   "outputs": [],
   "source": [
    "with open('./../data/qa-data.json', 'r') as file:\n",
    "    data = json.load(file)"
   ]
  },
  {
   "cell_type": "code",
   "execution_count": 70,
   "metadata": {},
   "outputs": [
    {
     "name": "stdout",
     "output_type": "stream",
     "text": [
      "355\n"
     ]
    }
   ],
   "source": [
    "with open('./../data/topic-data.json', 'r') as file:\n",
    "    print(len(json.load(file)))"
   ]
  },
  {
   "cell_type": "code",
   "execution_count": 68,
   "metadata": {},
   "outputs": [],
   "source": [
    "def filter_data_for_duplicates(data):\n",
    "    # Set to keep track of unique IDs\n",
    "    unique_ids = set()\n",
    "\n",
    "    # List to store the filtered data\n",
    "    filtered_data = []\n",
    "\n",
    "    # Iterate through the data\n",
    "    for item in data:\n",
    "        # Check if the ID is already in the set\n",
    "        if item['id'] not in unique_ids:\n",
    "            # Add the ID to the set\n",
    "            unique_ids.add(item['id'])\n",
    "            # Add the item to the filtered data list\n",
    "            filtered_data.append(item)\n",
    "    \n",
    "    return filtered_data"
   ]
  },
  {
   "cell_type": "code",
   "execution_count": 64,
   "metadata": {},
   "outputs": [
    {
     "data": {
      "text/plain": [
       "2597"
      ]
     },
     "execution_count": 64,
     "metadata": {},
     "output_type": "execute_result"
    }
   ],
   "source": [
    "len(data)"
   ]
  },
  {
   "cell_type": "code",
   "execution_count": 69,
   "metadata": {},
   "outputs": [
    {
     "data": {
      "text/plain": [
       "1937"
      ]
     },
     "execution_count": 69,
     "metadata": {},
     "output_type": "execute_result"
    }
   ],
   "source": [
    "filtered_data = filter_data_for_duplicates(data)\n",
    "len(filtered_data)"
   ]
  },
  {
   "cell_type": "code",
   "execution_count": 50,
   "metadata": {},
   "outputs": [],
   "source": [
    "def extract_pieces_from_question(question):\n",
    "    # Set empty list for all content pieces\n",
    "    pieces = []\n",
    "\n",
    "    # Set suffix to add to each content piece\n",
    "    suffix = \"\\n\" + (\n",
    "        ('Onderwerpen: ' + '; '.join(question['answer']['subjects']) + \"\\n\" if 'subjects' in question['answer'].keys() else '') +\n",
    "        ('Thema\\'s: ' + '; '.join(question['answer']['themes']) if 'themes' in question['answer'].keys() else '')\n",
    "    ).strip()\n",
    "\n",
    "    # Part 1: content pieces based on question\n",
    "    if \"question\" in question[\"answer\"].keys():\n",
    "        if \"introduction\" in question[\"answer\"].keys():\n",
    "            # Content piece 1: just the Q and A\n",
    "            pieces.append(f\"Vraag: {question['answer']['question']}\\nAntwoord:\\n{html_to_markdown(question['answer']['introduction'])}\".strip() + suffix)\n",
    "        elif \"content\" not in question[\"answer\"].keys():\n",
    "            # Content piece 2: there is no content, just return the question for reference materials for the end user\n",
    "            pieces.append(f\"Vraag: {question['answer']['question']}\".strip() + suffix)\n",
    "        elif \"content\" in question[\"answer\"].keys() and len(question[\"answer\"][\"content\"]) == 1:\n",
    "            # Content piece 3: question with the only content piece\n",
    "            content = '\\n'.join([html_to_markdown(paragraph_piece) for paragraph_piece in question['answer']['content'][0].values()])\n",
    "            pieces.append(f\"Vraag: {question['answer']['question']}\\nAntwoord:\\n{content}\".strip() + suffix)\n",
    "    \n",
    "    # Part 2: content pieces based on content\n",
    "    if \"content\" in question[\"answer\"].keys() and len(question[\"answer\"][\"content\"]) > 1:\n",
    "        for content_piece in question[\"answer\"][\"content\"]:\n",
    "            content = '\\n'.join([html_to_markdown(paragraph_piece) for paragraph_piece in content_piece.values()])\n",
    "            pieces.append(content.strip() + suffix)\n",
    "\n",
    "    return pieces"
   ]
  },
  {
   "cell_type": "code",
   "execution_count": 52,
   "metadata": {},
   "outputs": [],
   "source": [
    "def generate_documents(data):\n",
    "    content = []\n",
    "\n",
    "    for qa_item in data:\n",
    "        # Get all individual content pieces\n",
    "        content_pieces = extract_pieces_from_question(qa_item)\n",
    "\n",
    "        # Create documents for each piece\n",
    "        document_pieces = [\n",
    "            Document(\n",
    "                page_content=piece,\n",
    "                metadata={\n",
    "                    \"source\": qa_item[\"canonical\"]\n",
    "                },\n",
    "            )\n",
    "            for piece in content_pieces\n",
    "        ]\n",
    "\n",
    "        # Merge documents into full content list\n",
    "        content.extend(document_pieces)\n",
    "    \n",
    "    return content"
   ]
  },
  {
   "cell_type": "code",
   "execution_count": 53,
   "metadata": {},
   "outputs": [
    {
     "name": "stderr",
     "output_type": "stream",
     "text": [
      "/var/folders/4n/btbbzjrn31nbw6c4jkw2yr1c0000gn/T/ipykernel_15153/3634077436.py:3: MarkupResemblesLocatorWarning: The input looks more like a filename than markup. You may want to open this file and pass the filehandle into Beautiful Soup.\n",
      "  soup = BeautifulSoup(html_string, 'html.parser')\n",
      "/Users/martijnschouten/Library/Caches/pypoetry/virtualenvs/feedbackfrontiers-3xN2_Ao--py3.11/lib/python3.11/site-packages/markdownify/__init__.py:96: MarkupResemblesLocatorWarning: The input looks more like a filename than markup. You may want to open this file and pass the filehandle into Beautiful Soup.\n",
      "  soup = BeautifulSoup(html, 'html.parser')\n"
     ]
    }
   ],
   "source": [
    "docs = generate_documents(data)"
   ]
  },
  {
   "cell_type": "code",
   "execution_count": 55,
   "metadata": {},
   "outputs": [
    {
     "data": {
      "text/plain": [
       "11207"
      ]
     },
     "execution_count": 55,
     "metadata": {},
     "output_type": "execute_result"
    }
   ],
   "source": [
    "len(docs)"
   ]
  },
  {
   "cell_type": "markdown",
   "metadata": {},
   "source": [
    "## Step 2: Build vector db"
   ]
  },
  {
   "cell_type": "code",
   "execution_count": 56,
   "metadata": {},
   "outputs": [],
   "source": [
    "# Ready all models\n",
    "embedding = OpenAIEmbeddings()\n",
    "llm = ChatOpenAI(model_name=\"gpt-3.5-turbo\", temperature=0)"
   ]
  },
  {
   "cell_type": "code",
   "execution_count": 57,
   "metadata": {},
   "outputs": [],
   "source": [
    "vectordb_persist_dir = \"./../data/faiss_index_v2\""
   ]
  },
  {
   "cell_type": "code",
   "execution_count": 58,
   "metadata": {},
   "outputs": [
    {
     "name": "stderr",
     "output_type": "stream",
     "text": [
      "/var/folders/4n/btbbzjrn31nbw6c4jkw2yr1c0000gn/T/ipykernel_15153/3634077436.py:3: MarkupResemblesLocatorWarning: The input looks more like a filename than markup. You may want to open this file and pass the filehandle into Beautiful Soup.\n",
      "  soup = BeautifulSoup(html_string, 'html.parser')\n",
      "/Users/martijnschouten/Library/Caches/pypoetry/virtualenvs/feedbackfrontiers-3xN2_Ao--py3.11/lib/python3.11/site-packages/markdownify/__init__.py:96: MarkupResemblesLocatorWarning: The input looks more like a filename than markup. You may want to open this file and pass the filehandle into Beautiful Soup.\n",
      "  soup = BeautifulSoup(html, 'html.parser')\n"
     ]
    }
   ],
   "source": [
    "if not os.path.exists(vectordb_persist_dir):\n",
    "    # Generate all documents\n",
    "    docs = generate_documents(data)\n",
    "\n",
    "    # Create vector store\n",
    "    vectordb = FAISS.from_documents(\n",
    "        documents=docs,\n",
    "        embedding=embedding,\n",
    "    )\n",
    "    vectordb.save_local(vectordb_persist_dir)\n",
    "else:\n",
    "    # ChromaDB has been initialised before, recreate instance\n",
    "    vectordb = FAISS.load_local(vectordb_persist_dir, embedding)"
   ]
  },
  {
   "cell_type": "code",
   "execution_count": 61,
   "metadata": {},
   "outputs": [],
   "source": [
    "def get_answer_from_llm(query):    \n",
    "    # Build prompt\n",
    "    template = \"\"\"Gedraag je als een helpvolle assistent voor mensen die op zoek zijn naar allerlei antwoorden op vragen die iets te maken hebben met de Rijksoverheid. Beantwoord deze vraag ALLEEN op basis van de gegeven bronnen, niet op basis van eigen kennis. Als je de vraag niet kan beantwoorden, verontschuldig je en zeg dat de webmaster op de hoogte is gebracht van het niet hebben van de gevraagde informatie.\n",
    "    Bronnen: ```{context}```\n",
    "    Vraag: ```{question}```\n",
    "    Behulpzaam antwoord: \"\"\"\n",
    "    qa_chain_prompt = PromptTemplate.from_template(template)\n",
    "\n",
    "    # Define search kwargs\n",
    "    search_kwargs = {\"k\": 5}\n",
    "\n",
    "    # Create QA chain\n",
    "    qa_chain = RetrievalQA.from_chain_type(\n",
    "        llm,\n",
    "        retriever=vectordb.as_retriever(search_kwargs=search_kwargs),\n",
    "        return_source_documents=True,\n",
    "        chain_type_kwargs={\"prompt\": qa_chain_prompt},\n",
    "    )\n",
    "\n",
    "    # Get result\n",
    "    result = qa_chain({\"query\": query})\n",
    "\n",
    "    return {\n",
    "        **result,\n",
    "        \"source_documents\": [\n",
    "            {\n",
    "                \"page_content\": doc.page_content,\n",
    "                \"source\": doc.metadata[\"source\"],\n",
    "            }\n",
    "            for doc in result[\"source_documents\"]\n",
    "        ]\n",
    "    }"
   ]
  },
  {
   "cell_type": "code",
   "execution_count": 62,
   "metadata": {},
   "outputs": [
    {
     "data": {
      "text/plain": [
       "{'query': 'Zit er BTW op zonnepanelen?',\n",
       " 'result': 'Sinds 2023 is er geen btw op zonnepanelen. Dit nultarief geldt alleen als de zonnepanelen worden geplaatst op woningen of bijgebouwen van een woning.',\n",
       " 'source_documents': [{'page_content': \"Goedkoop geld lenen voor aankoop en installatie van zonnepanelen\\nOm zonnepanelen te betalen, kunt u gebruikmaken van de [Energiebespaarlening](https://www.warmtefonds.nl/particulieren/energiebesparende-maatregelen/zonnepanelen). Met deze lening kunt u energiebesparende maatregelen in of aan uw huis betalen.\\n\\n\\nGeen btw op zonnepanelen\\n------------------------\\n\\n\\n Sinds 2023 is de btw op zonnepanelen 0%. Dit nultarief geldt alleen als de zonnepanelen worden geplaatst op woningen of bijgebouwen van een woning.\\nOnderwerpen: Energie thuis; Duurzame energie\\nThema's: Economie; Bouwen en wonen; Klimaat, milieu en natuur\",\n",
       "   'source': 'https://www.rijksoverheid.nl/onderwerpen/energie-thuis/vraag-en-antwoord/krijg-ik-subsidie-voor-zonnepanelen'},\n",
       "  {'page_content': \"Goedkoop geld lenen voor aankoop en installatie van zonnepanelen\\nOm zonnepanelen te betalen, kunt u gebruikmaken van de [Energiebespaarlening](https://www.warmtefonds.nl/particulieren/energiebesparende-maatregelen/zonnepanelen). Met deze lening kunt u energiebesparende maatregelen in of aan uw huis betalen.\\n\\n\\nGeen btw op zonnepanelen\\n------------------------\\n\\n\\n Sinds 2023 is de btw op zonnepanelen 0%. Dit nultarief geldt alleen als de zonnepanelen worden geplaatst op woningen of bijgebouwen van een woning.\\nOnderwerpen: Energie thuis; Duurzame energie\\nThema's: Economie; Bouwen en wonen; Klimaat, milieu en natuur\",\n",
       "   'source': 'https://www.rijksoverheid.nl/onderwerpen/energie-thuis/vraag-en-antwoord/krijg-ik-subsidie-voor-zonnepanelen'},\n",
       "  {'page_content': \"Btw bij zonnepanelen terugvragen\\nBent u huiseigenaar en heeft u btw betaald bij de koop en installatie van uw zonnepanelen? Dan kunt u deze btw terugkrijgen als:\\n\\n\\n* u een deel van de opgewekte stroom teruglevert aan het energienet;\\n* u daarvoor een vergoeding krijgt van uw energieleverancier.\\n\\n\\nOm btw te kunnen terugvragen, meldt u zich eerst aan bij de Belastingdienst als ondernemer. Lees meer over het [terugvragen van btw op zonnepanelen op de website van de Belastingdienst](https://www.belastingdienst.nl/wps/wcm/connect/bldcontentnl/belastingdienst/zakelijk/btw/hoe_werkt_de_btw/voor_wie_geldt_de_btw/eigenaren-van-zonnepanelen/eigenaren_van_zonnepanelen).\\nOnderwerpen: Belastingen voor ondernemers; Belasting betalen\\nThema's: Economie; Belastingen, uitkeringen en toeslagen\",\n",
       "   'source': 'https://www.rijksoverheid.nl/onderwerpen/belastingen-voor-ondernemers/vraag-en-antwoord/btw-in-rekening-brengen-en-afdragen'},\n",
       "  {'page_content': \"Btw bij zonnepanelen terugvragen\\nBent u huiseigenaar en heeft u btw betaald bij de koop en installatie van uw zonnepanelen? Dan kunt u deze btw terugkrijgen als:\\n\\n\\n* u een deel van de opgewekte stroom teruglevert aan het energienet;\\n* u daarvoor een vergoeding krijgt van uw energieleverancier.\\n\\n\\nOm btw te kunnen terugvragen, meldt u zich eerst aan bij de Belastingdienst als ondernemer. Lees meer over het [terugvragen van btw op zonnepanelen op de website van de Belastingdienst](https://www.belastingdienst.nl/wps/wcm/connect/bldcontentnl/belastingdienst/zakelijk/btw/hoe_werkt_de_btw/voor_wie_geldt_de_btw/eigenaren-van-zonnepanelen/eigenaren_van_zonnepanelen).\\nOnderwerpen: Belastingen voor ondernemers; Belasting betalen\\nThema's: Economie; Belastingen, uitkeringen en toeslagen\",\n",
       "   'source': 'https://www.rijksoverheid.nl/onderwerpen/belastingen-voor-ondernemers/vraag-en-antwoord/btw-in-rekening-brengen-en-afdragen'},\n",
       "  {'page_content': \"Vraag: Krijg ik subsidie voor zonnepanelen?\\nAntwoord:\\nEr zijn verschillende financiële regelingen om de aankoop en het gebruik van zonnepanelen aantrekkelijk te maken.\\nOnderwerpen: Energie thuis; Duurzame energie\\nThema's: Economie; Bouwen en wonen; Klimaat, milieu en natuur\",\n",
       "   'source': 'https://www.rijksoverheid.nl/onderwerpen/energie-thuis/vraag-en-antwoord/krijg-ik-subsidie-voor-zonnepanelen'}]}"
      ]
     },
     "execution_count": 62,
     "metadata": {},
     "output_type": "execute_result"
    }
   ],
   "source": [
    "get_answer_from_llm(\"Zit er BTW op zonnepanelen?\")"
   ]
  },
  {
   "cell_type": "code",
   "execution_count": null,
   "metadata": {},
   "outputs": [],
   "source": []
  }
 ],
 "metadata": {
  "kernelspec": {
   "display_name": "feedbackfrontiers-3xN2_Ao--py3.11",
   "language": "python",
   "name": "python3"
  },
  "language_info": {
   "codemirror_mode": {
    "name": "ipython",
    "version": 3
   },
   "file_extension": ".py",
   "mimetype": "text/x-python",
   "name": "python",
   "nbconvert_exporter": "python",
   "pygments_lexer": "ipython3",
   "version": "3.11.4"
  }
 },
 "nbformat": 4,
 "nbformat_minor": 2
}
